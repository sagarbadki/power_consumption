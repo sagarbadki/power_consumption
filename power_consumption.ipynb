{
  "nbformat": 4,
  "nbformat_minor": 0,
  "metadata": {
    "colab": {
      "name": "power_consumption.ipynb",
      "provenance": [],
      "collapsed_sections": []
    },
    "kernelspec": {
      "name": "python3",
      "display_name": "Python 3"
    }
  },
  "cells": [
    {
      "cell_type": "code",
      "metadata": {
        "id": "fvCcqWTcbS55",
        "colab_type": "code",
        "colab": {
          "base_uri": "https://localhost:8080/",
          "height": 71
        },
        "outputId": "50744938-b2d1-4a30-de78-94ef0c946f84"
      },
      "source": [
        "import pandas as pd\n",
        "import numpy as np\n",
        "import matplotlib.pyplot as plt\n",
        "import seaborn as sns \n",
        "plt.style.use('fivethirtyeight')\n",
        "import warnings\n",
        "warnings.filterwarnings('ignore')\n",
        "import datetime"
      ],
      "execution_count": 1,
      "outputs": [
        {
          "output_type": "stream",
          "text": [
            "/usr/local/lib/python3.6/dist-packages/statsmodels/tools/_testing.py:19: FutureWarning: pandas.util.testing is deprecated. Use the functions in the public API at pandas.testing instead.\n",
            "  import pandas.util.testing as tm\n"
          ],
          "name": "stderr"
        }
      ]
    },
    {
      "cell_type": "code",
      "metadata": {
        "id": "WO9tuWnXcAFG",
        "colab_type": "code",
        "colab": {}
      },
      "source": [
        " df=pd.read_csv('/content/drive/My Drive/Projects/solarpower_cumuldaybyday2.csv',parse_dates=True)"
      ],
      "execution_count": 0,
      "outputs": []
    },
    {
      "cell_type": "code",
      "metadata": {
        "id": "_IwpULzHBBc7",
        "colab_type": "code",
        "colab": {}
      },
      "source": [
        "df['date']=df.date.apply(lambda x: datetime.datetime.strptime(x,'%d/%m/%Y'))"
      ],
      "execution_count": 0,
      "outputs": []
    },
    {
      "cell_type": "code",
      "metadata": {
        "id": "gCtsFwJ0dX99",
        "colab_type": "code",
        "colab": {}
      },
      "source": [
        "df.drop('Unnamed: 2',axis=1,inplace=True)"
      ],
      "execution_count": 0,
      "outputs": []
    },
    {
      "cell_type": "code",
      "metadata": {
        "id": "jfoFfpn3BfNb",
        "colab_type": "code",
        "colab": {
          "base_uri": "https://localhost:8080/",
          "height": 51
        },
        "outputId": "7ca3bab4-777f-46da-e46b-a5b6af057241"
      },
      "source": [
        "print('Start Date :',df['date'].min())\n",
        "print('End Date :',df['date'].max())"
      ],
      "execution_count": 17,
      "outputs": [
        {
          "output_type": "stream",
          "text": [
            "Start Date : 2011-10-26 00:00:00\n",
            "End Date : 2018-10-26 00:00:00\n"
          ],
          "name": "stdout"
        }
      ]
    },
    {
      "cell_type": "markdown",
      "metadata": {
        "id": "AuPg3u4KB6UC",
        "colab_type": "text"
      },
      "source": [
        "we have 7 years data of electricity consumption"
      ]
    },
    {
      "cell_type": "code",
      "metadata": {
        "id": "ddvrcWZtDaqv",
        "colab_type": "code",
        "outputId": "9f546c49-0d5a-4585-e8b6-cf8f51faed01",
        "colab": {
          "base_uri": "https://localhost:8080/",
          "height": 279
        }
      },
      "source": [
        "df['cum_power'].plot()"
      ],
      "execution_count": 14,
      "outputs": [
        {
          "output_type": "execute_result",
          "data": {
            "text/plain": [
              "<matplotlib.axes._subplots.AxesSubplot at 0x7f19ab0e3b70>"
            ]
          },
          "metadata": {
            "tags": []
          },
          "execution_count": 14
        },
        {
          "output_type": "display_data",
          "data": {
            "image/png": "[encoded data removed]",
            "text/plain": [
              "<Figure size 432x288 with 1 Axes>"
            ]
          },
          "metadata": {
            "tags": [],
            "needs_background": "light"
          }
        }
      ]
    },
    {
      "cell_type": "markdown",
      "metadata": {
        "id": "zeQzpnyXCKcY",
        "colab_type": "text"
      },
      "source": [
        "We can see upward trend that our data have."
      ]
    },
    {
      "cell_type": "code",
      "metadata": {
        "id": "dwGrNXDPxfPF",
        "colab_type": "code",
        "outputId": "71f1cb57-3580-464e-80df-b007689b57c8",
        "colab": {
          "base_uri": "https://localhost:8080/",
          "height": 204
        }
      },
      "source": [
        "df.head(5)"
      ],
      "execution_count": 18,
      "outputs": [
        {
          "output_type": "execute_result",
          "data": {
            "text/html": [
              "<div>\n",
              "<style scoped>\n",
              "    .dataframe tbody tr th:only-of-type {\n",
              "        vertical-align: middle;\n",
              "    }\n",
              "\n",
              "    .dataframe tbody tr th {\n",
              "        vertical-align: top;\n",
              "    }\n",
              "\n",
              "    .dataframe thead th {\n",
              "        text-align: right;\n",
              "    }\n",
              "</style>\n",
              "<table border=\"1\" class=\"dataframe\">\n",
              "  <thead>\n",
              "    <tr style=\"text-align: right;\">\n",
              "      <th></th>\n",
              "      <th>date</th>\n",
              "      <th>cum_power</th>\n",
              "    </tr>\n",
              "  </thead>\n",
              "  <tbody>\n",
              "    <tr>\n",
              "      <th>0</th>\n",
              "      <td>2011-10-26</td>\n",
              "      <td>0.1</td>\n",
              "    </tr>\n",
              "    <tr>\n",
              "      <th>1</th>\n",
              "      <td>2011-10-27</td>\n",
              "      <td>10.2</td>\n",
              "    </tr>\n",
              "    <tr>\n",
              "      <th>2</th>\n",
              "      <td>2011-10-28</td>\n",
              "      <td>20.2</td>\n",
              "    </tr>\n",
              "    <tr>\n",
              "      <th>3</th>\n",
              "      <td>2011-10-29</td>\n",
              "      <td>29.6</td>\n",
              "    </tr>\n",
              "    <tr>\n",
              "      <th>4</th>\n",
              "      <td>2011-10-30</td>\n",
              "      <td>34.2</td>\n",
              "    </tr>\n",
              "  </tbody>\n",
              "</table>\n",
              "</div>"
            ],
            "text/plain": [
              "        date  cum_power\n",
              "0 2011-10-26        0.1\n",
              "1 2011-10-27       10.2\n",
              "2 2011-10-28       20.2\n",
              "3 2011-10-29       29.6\n",
              "4 2011-10-30       34.2"
            ]
          },
          "metadata": {
            "tags": []
          },
          "execution_count": 18
        }
      ]
    },
    {
      "cell_type": "code",
      "metadata": {
        "id": "Z2-5ckTrcVkq",
        "colab_type": "code",
        "outputId": "21f3bdb2-4a8a-4600-de24-af464bc65d56",
        "colab": {
          "base_uri": "https://localhost:8080/",
          "height": 68
        }
      },
      "source": [
        "df.isnull().sum()"
      ],
      "execution_count": 19,
      "outputs": [
        {
          "output_type": "execute_result",
          "data": {
            "text/plain": [
              "date         0\n",
              "cum_power    0\n",
              "dtype: int64"
            ]
          },
          "metadata": {
            "tags": []
          },
          "execution_count": 19
        }
      ]
    },
    {
      "cell_type": "code",
      "metadata": {
        "id": "4gsUJ24YdzJH",
        "colab_type": "code",
        "outputId": "478668cb-7221-4dac-8033-8879cac17ec7",
        "colab": {
          "base_uri": "https://localhost:8080/",
          "height": 309
        }
      },
      "source": [
        "!pip install pyramid-arima"
      ],
      "execution_count": 20,
      "outputs": [
        {
          "output_type": "stream",
          "text": [
            "Collecting pyramid-arima\n",
            "\u001b[?25l  Downloading https://files.pythonhosted.org/packages/5c/84/57422f2a6ade3161c586545e38b518ba1b7ab30ee4a4acc29110c0aba2bc/pyramid_arima-0.9.0-cp36-cp36m-manylinux1_x86_64.whl (597kB)\n",
            "\u001b[K     |████████████████████████████████| 604kB 2.7MB/s \n",
            "\u001b[?25hRequirement already satisfied: Cython>=0.23 in /usr/local/lib/python3.6/dist-packages (from pyramid-arima) (0.29.19)\n",
            "Requirement already satisfied: numpy>=1.10 in /usr/local/lib/python3.6/dist-packages (from pyramid-arima) (1.18.4)\n",
            "Requirement already satisfied: scipy>=0.9 in /usr/local/lib/python3.6/dist-packages (from pyramid-arima) (1.4.1)\n",
            "Requirement already satisfied: statsmodels>=0.9.0 in /usr/local/lib/python3.6/dist-packages (from pyramid-arima) (0.10.2)\n",
            "Requirement already satisfied: scikit-learn>=0.17 in /usr/local/lib/python3.6/dist-packages (from pyramid-arima) (0.22.2.post1)\n",
            "Requirement already satisfied: pandas>=0.19 in /usr/local/lib/python3.6/dist-packages (from pyramid-arima) (1.0.4)\n",
            "Requirement already satisfied: patsy>=0.4.0 in /usr/local/lib/python3.6/dist-packages (from statsmodels>=0.9.0->pyramid-arima) (0.5.1)\n",
            "Requirement already satisfied: joblib>=0.11 in /usr/local/lib/python3.6/dist-packages (from scikit-learn>=0.17->pyramid-arima) (0.15.1)\n",
            "Requirement already satisfied: python-dateutil>=2.6.1 in /usr/local/lib/python3.6/dist-packages (from pandas>=0.19->pyramid-arima) (2.8.1)\n",
            "Requirement already satisfied: pytz>=2017.2 in /usr/local/lib/python3.6/dist-packages (from pandas>=0.19->pyramid-arima) (2018.9)\n",
            "Requirement already satisfied: six in /usr/local/lib/python3.6/dist-packages (from patsy>=0.4.0->statsmodels>=0.9.0->pyramid-arima) (1.12.0)\n",
            "Installing collected packages: pyramid-arima\n",
            "Successfully installed pyramid-arima-0.9.0\n"
          ],
          "name": "stdout"
        }
      ]
    },
    {
      "cell_type": "code",
      "metadata": {
        "id": "bStmiekZuhK1",
        "colab_type": "code",
        "colab": {}
      },
      "source": [
        "new_df=df.copy()\n",
        "new_df.index=new_df.date\n",
        "new_df.drop('date',axis=1,inplace=True)"
      ],
      "execution_count": 0,
      "outputs": []
    },
    {
      "cell_type": "code",
      "metadata": {
        "id": "zKrA-aNnvH2z",
        "colab_type": "code",
        "colab": {}
      },
      "source": [
        "train=new_df[:'2017']\n",
        "valid=new_df['2018']"
      ],
      "execution_count": 0,
      "outputs": []
    },
    {
      "cell_type": "code",
      "metadata": {
        "id": "utYMkwKTc9Sw",
        "colab_type": "code",
        "colab": {}
      },
      "source": [
        "\n",
        "import statsmodels.api as sm\n",
        "from pyramid.arima import auto_arima"
      ],
      "execution_count": 0,
      "outputs": []
    },
    {
      "cell_type": "code",
      "metadata": {
        "id": "lzkWpK9Kuakv",
        "colab_type": "code",
        "colab": {
          "base_uri": "https://localhost:8080/",
          "height": 187
        },
        "outputId": "71784a3a-bec9-4159-8317-14112206d864"
      },
      "source": [
        "model=auto_arima(train,trace=True, error_action='ignore', suppress_warnings=True)\n",
        "model.fit(train)\n",
        "\n",
        "\n",
        "forecast=model.predict(n_periods=len(valid))"
      ],
      "execution_count": 37,
      "outputs": [
        {
          "output_type": "stream",
          "text": [
            "Fit ARIMA: order=(2, 1, 2) seasonal_order=(0, 0, 0, 1); AIC=13459.822, BIC=13494.156, Fit time=2.703 seconds\n",
            "Fit ARIMA: order=(0, 1, 0) seasonal_order=(0, 0, 0, 1); AIC=15881.556, BIC=15893.000, Fit time=0.078 seconds\n",
            "Fit ARIMA: order=(1, 1, 0) seasonal_order=(0, 0, 0, 1); AIC=14016.162, BIC=14033.328, Fit time=0.199 seconds\n",
            "Fit ARIMA: order=(0, 1, 1) seasonal_order=(0, 0, 0, 1); AIC=14879.982, BIC=14897.149, Fit time=0.523 seconds\n",
            "Fit ARIMA: order=(1, 1, 2) seasonal_order=(0, 0, 0, 1); AIC=13459.556, BIC=13488.167, Fit time=1.430 seconds\n",
            "Fit ARIMA: order=(1, 1, 1) seasonal_order=(0, 0, 0, 1); AIC=13511.706, BIC=13534.595, Fit time=0.970 seconds\n",
            "Fit ARIMA: order=(1, 1, 3) seasonal_order=(0, 0, 0, 1); AIC=13460.417, BIC=13494.750, Fit time=2.193 seconds\n",
            "Fit ARIMA: order=(2, 1, 3) seasonal_order=(0, 0, 0, 1); AIC=13462.861, BIC=13502.917, Fit time=3.874 seconds\n",
            "Fit ARIMA: order=(0, 1, 2) seasonal_order=(0, 0, 0, 1); AIC=14516.796, BIC=14539.685, Fit time=0.884 seconds\n",
            "Total fit time: 12.886 seconds\n"
          ],
          "name": "stdout"
        }
      ]
    },
    {
      "cell_type": "code",
      "metadata": {
        "id": "XYIa2jglCu8F",
        "colab_type": "code",
        "colab": {
          "base_uri": "https://localhost:8080/",
          "height": 279
        },
        "outputId": "1b84637d-b196-4d10-8bf9-72c73457643b"
      },
      "source": [
        "from sklearn.metrics import mean_squared_error\n",
        "forecast = pd.DataFrame(forecast,index = valid.index,columns=['Prediction'])\n",
        "\n",
        "#plot the predictions for validation set\n",
        "plt.plot(train, label='Train')\n",
        "plt.plot(valid, label='Valid')\n",
        "plt.plot(forecast, label='Prediction')\n",
        "plt.legend()\n",
        "plt.title('RMSE Score :{}'.format(np.sqrt(mean_squared_error(valid,forecast))))\n",
        "plt.show()"
      ],
      "execution_count": 38,
      "outputs": [
        {
          "output_type": "display_data",
          "data": {
            "image/png": "[encoded data removed]",
            "text/plain": [
              "<Figure size 432x288 with 1 Axes>"
            ]
          },
          "metadata": {
            "tags": [],
            "needs_background": "light"
          }
        }
      ]
    },
    {
      "cell_type": "code",
      "metadata": {
        "id": "5y8xK1kXDfhx",
        "colab_type": "code",
        "colab": {
          "base_uri": "https://localhost:8080/",
          "height": 119
        },
        "outputId": "5126fe69-3cca-4be5-96ae-6323d34539fe"
      },
      "source": [
        "#prophet\n",
        "!pip install Prophet"
      ],
      "execution_count": 64,
      "outputs": [
        {
          "output_type": "stream",
          "text": [
            "Requirement already satisfied: Prophet in /usr/local/lib/python3.6/dist-packages (0.1.1.post1)\n",
            "Requirement already satisfied: pytz>=2014.9 in /usr/local/lib/python3.6/dist-packages (from Prophet) (2018.9)\n",
            "Requirement already satisfied: six>=1.8.0 in /usr/local/lib/python3.6/dist-packages (from Prophet) (1.12.0)\n",
            "Requirement already satisfied: pandas>=0.15.1 in /usr/local/lib/python3.6/dist-packages (from Prophet) (1.0.4)\n",
            "Requirement already satisfied: python-dateutil>=2.6.1 in /usr/local/lib/python3.6/dist-packages (from pandas>=0.15.1->Prophet) (2.8.1)\n",
            "Requirement already satisfied: numpy>=1.13.3 in /usr/local/lib/python3.6/dist-packages (from pandas>=0.15.1->Prophet) (1.18.4)\n"
          ],
          "name": "stdout"
        }
      ]
    },
    {
      "cell_type": "code",
      "metadata": {
        "id": "T_z8rm6YE7pt",
        "colab_type": "code",
        "colab": {}
      },
      "source": [
        "new_df=df.copy()\n",
        "#rename our columns as per prophet manual\n",
        "new_df.rename({'date':'ds','cum_power':'y'},axis=1,inplace=True)"
      ],
      "execution_count": 0,
      "outputs": []
    },
    {
      "cell_type": "code",
      "metadata": {
        "id": "eZJrAzfRDzHY",
        "colab_type": "code",
        "colab": {}
      },
      "source": [
        "\n",
        "train=new_df[new_df['ds']<'2018']\n",
        "valid=new_df[new_df['ds']>'2018']"
      ],
      "execution_count": 0,
      "outputs": []
    },
    {
      "cell_type": "code",
      "metadata": {
        "id": "T9i1YzwyD52Y",
        "colab_type": "code",
        "colab": {
          "base_uri": "https://localhost:8080/",
          "height": 296
        },
        "outputId": "a59a2ed2-5c0f-470b-f3dd-e50cc2e7674a"
      },
      "source": [
        "from fbprophet import Prophet\n",
        "\n",
        "model=Prophet()\n",
        "model.fit(train)\n",
        "\n",
        "power_cum=model.make_future_dataframe(periods=len(valid))\n",
        "\n",
        "forecast=model.predict(power_cum)\n",
        "\n",
        "valid_forecast=forecast['yhat'][2259:]\n",
        "\n",
        "#plot the predictions for validation set\n",
        "plt.plot(train['y'], label='Train')\n",
        "plt.plot(valid['y'], label='Valid')\n",
        "plt.plot(valid_forecast, label='Prediction')\n",
        "plt.legend()\n",
        "plt.title('RMSE Score :{}'.format(np.sqrt(mean_squared_error(valid['y'],valid_forecast))))\n",
        "plt.show()\n",
        " \n",
        "\n"
      ],
      "execution_count": 72,
      "outputs": [
        {
          "output_type": "stream",
          "text": [
            "INFO:fbprophet:Disabling daily seasonality. Run prophet with daily_seasonality=True to override this.\n"
          ],
          "name": "stderr"
        },
        {
          "output_type": "display_data",
          "data": {
            "image/png": "[encoded data removed]",
            "text/plain": [
              "<Figure size 432x288 with 1 Axes>"
            ]
          },
          "metadata": {
            "tags": [],
            "needs_background": "light"
          }
        }
      ]
    },
    {
      "cell_type": "code",
      "metadata": {
        "id": "8tX4ERYCEK6r",
        "colab_type": "code",
        "colab": {}
      },
      "source": [
        "# lets go fot LSTM\n",
        "from keras.models import Sequential\n",
        "from keras.layers import Dense,LSTM,Dropout,Bidirectional\n",
        "from sklearn.preprocessing import MinMaxScaler"
      ],
      "execution_count": 0,
      "outputs": []
    },
    {
      "cell_type": "code",
      "metadata": {
        "id": "6GS9ZuRuGXZh",
        "colab_type": "code",
        "colab": {
          "base_uri": "https://localhost:8080/",
          "height": 993
        },
        "outputId": "58670639-4ebb-4710-adc4-7d551cea48fc"
      },
      "source": [
        "#data preparation\n",
        "def create_dataset(dataset, lookback=1):\n",
        "    dataX = []\n",
        "    dataY = []\n",
        "    for i in range(len(dataset) - lookback - 1):\n",
        "        a = dataset[i: (i+lookback), 0]\n",
        "        dataX.append(a)\n",
        "        dataY.append(dataset[i+lookback,0])\n",
        "    return np.array(dataX), np.array(dataY)\n",
        "\n",
        "\n",
        "data = \"/content/drive/My Drive/Projects/solarpower_cumuldaybyday2.csv\"\n",
        "\n",
        "np.random.seed(7)\n",
        "\n",
        "df = pd.read_csv(data, usecols=[1])\n",
        "dataset = df.values\n",
        "dataset = dataset.astype(\"float32\")\n",
        "\n",
        "scaler = MinMaxScaler(feature_range=(0,1))\n",
        "dataset = scaler.fit_transform(dataset)\n",
        "\n",
        "train_dataset = dataset[:int(len(dataset)*0.75), :]\n",
        "test_dataset = dataset[int(len(dataset)*0.75):, :]\n",
        "\n",
        "lookback = 1\n",
        "trainX, trainY = create_dataset(train_dataset, lookback)\n",
        "testX, testY = create_dataset(test_dataset, lookback)\n",
        "\n",
        "trainX = np.reshape(trainX, (trainX.shape[0], 1, trainX.shape[1]))\n",
        "testX = np.reshape(testX, (testX.shape[0], 1, testX.shape[1]))\n",
        "\n",
        "model = Sequential()\n",
        "model.add(Bidirectional(LSTM(20, input_shape=(1, lookback))))\n",
        "\n",
        "model.add(Dense(1))\n",
        "model.compile(loss='mean_squared_error', optimizer='adam')\n",
        "model.fit(trainX, trainY, epochs=20, batch_size=1, verbose=2)\n",
        "\n",
        "# make predictions\n",
        "trainPredict = model.predict(trainX)\n",
        "testPredict = model.predict(testX)\n",
        "# invert predictions\n",
        "trainPredict = scaler.inverse_transform(trainPredict)\n",
        "trainY = scaler.inverse_transform([trainY])\n",
        "testPredict = scaler.inverse_transform(testPredict)\n",
        "testY = scaler.inverse_transform([testY])\n",
        "# calculate root mean squared error\n",
        "trainScore = np.sqrt(mean_squared_error(trainY[0], trainPredict[:,0]))\n",
        "print('Train Score: %.2f RMSE' % (trainScore))\n",
        "testScore = np.sqrt(mean_squared_error(testY[0], testPredict[:,0]))\n",
        "print('Test Score: %.2f RMSE' % (testScore))\n",
        "\n",
        "trainPredictPlot = np.empty_like(dataset)\n",
        "trainPredictPlot[:, :] = np.nan\n",
        "trainPredictPlot[lookback:len(trainPredict)+lookback, :] = trainPredict\n",
        "# shift test predictions for plotting\n",
        "testPredictPlot = np.empty_like(dataset) \n",
        "testPredictPlot[:, :] = np.nan\n",
        "testPredictPlot[len(trainPredict)+(lookback*2)+1:len(dataset)-1, :] = testPredict\n",
        "# plot baseline and predictions\n",
        "plt.plot(scaler.inverse_transform(dataset), label=\"Power Consumption\")\n",
        "plt.plot(trainPredictPlot, label=\"Train Prediction\")\n",
        "plt.plot(testPredictPlot, label=\"Test Prediction\")\n",
        "plt.xlabel(\"Observations\")\n",
        "plt.ylabel(\"Power Consumption\")\n",
        "plt.legend()\n",
        "plt.show()"
      ],
      "execution_count": 87,
      "outputs": [
        {
          "output_type": "stream",
          "text": [
            "Epoch 1/20\n",
            " - 4s - loss: 0.0102\n",
            "Epoch 2/20\n",
            " - 3s - loss: 4.5278e-05\n",
            "Epoch 3/20\n",
            " - 3s - loss: 1.1036e-05\n",
            "Epoch 4/20\n",
            " - 3s - loss: 9.0844e-07\n",
            "Epoch 5/20\n",
            " - 3s - loss: 1.6563e-06\n",
            "Epoch 6/20\n",
            " - 3s - loss: 2.4277e-06\n",
            "Epoch 7/20\n",
            " - 3s - loss: 2.6390e-06\n",
            "Epoch 8/20\n",
            " - 3s - loss: 2.1855e-06\n",
            "Epoch 9/20\n",
            " - 3s - loss: 3.0578e-06\n",
            "Epoch 10/20\n",
            " - 3s - loss: 2.0382e-06\n",
            "Epoch 11/20\n",
            " - 3s - loss: 2.5158e-06\n",
            "Epoch 12/20\n",
            " - 3s - loss: 1.5798e-06\n",
            "Epoch 13/20\n",
            " - 3s - loss: 2.1176e-06\n",
            "Epoch 14/20\n",
            " - 3s - loss: 2.0202e-06\n",
            "Epoch 15/20\n",
            " - 3s - loss: 1.7083e-06\n",
            "Epoch 16/20\n",
            " - 3s - loss: 2.2095e-06\n",
            "Epoch 17/20\n",
            " - 3s - loss: 1.7731e-06\n",
            "Epoch 18/20\n",
            " - 3s - loss: 1.5772e-06\n",
            "Epoch 19/20\n",
            " - 3s - loss: 2.0231e-06\n",
            "Epoch 20/20\n",
            " - 3s - loss: 1.2549e-06\n",
            "Train Score: 15.66 RMSE\n",
            "Test Score: 26.72 RMSE\n"
          ],
          "name": "stdout"
        },
        {
          "output_type": "display_data",
          "data": {
            "image/png": "[encoded data removed]",
            "text/plain": [
              "<Figure size 432x288 with 1 Axes>"
            ]
          },
          "metadata": {
            "tags": [],
            "needs_background": "light"
          }
        }
      ]
    },
    {
      "cell_type": "markdown",
      "metadata": {
        "id": "i31D94J0SFZR",
        "colab_type": "text"
      },
      "source": [
        "see we got good RMSE score "
      ]
    },
    {
      "cell_type": "code",
      "metadata": {
        "id": "qA7GxlmIJrLN",
        "colab_type": "code",
        "colab": {}
      },
      "source": [
        ""
      ],
      "execution_count": 0,
      "outputs": []
    }
  ]
}